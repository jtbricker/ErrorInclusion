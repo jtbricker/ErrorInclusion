{
 "cells": [
  {
   "cell_type": "code",
   "execution_count": 72,
   "metadata": {
    "collapsed": false
   },
   "outputs": [],
   "source": [
    "import numpy as np\n",
    "import matplotlib.pyplot as pl"
   ]
  },
  {
   "cell_type": "code",
   "execution_count": 73,
   "metadata": {
    "collapsed": false
   },
   "outputs": [],
   "source": [
    "file = open('seqs.FASTA.FASTQ','r')\n",
    "name = file.readline().strip()\n",
    "file.readline()\n",
    "file.readline()\n",
    "quality_string = file.readline().strip()\n",
    "#print(quality_string)\n",
    "\n",
    "quals = \"!\\\"#$%&'()*+,-./0123456789:;<=>?@ABCDEFGHI\"\n",
    "counts = {key:0 for key in list(quals)}\n",
    "for q in range(len(quality_string)):\n",
    "    #print(\"index: %s key: %s\"%(q,quality_string[q]))\n",
    "    #print(counts[quality_string[q]])\n",
    "    counts[quality_string[q]]+=1\n"
   ]
  },
  {
   "cell_type": "code",
   "execution_count": 75,
   "metadata": {
    "collapsed": false
   },
   "outputs": [],
   "source": [
    "X = np.arange(len(counts))\n",
    "pl.bar(X, counts.values(), align='center', width=0.5)\n",
    "pl.xticks(X, list(quals))\n",
    "ymax = max(counts.values()) + 1\n",
    "pl.ylim(0, ymax)\n",
    "pl.show()"
   ]
  },
  {
   "cell_type": "code",
   "execution_count": null,
   "metadata": {
    "collapsed": true
   },
   "outputs": [],
   "source": []
  }
 ],
 "metadata": {
  "kernelspec": {
   "display_name": "Python 3",
   "language": "python",
   "name": "python3"
  },
  "language_info": {
   "codemirror_mode": {
    "name": "ipython",
    "version": 3
   },
   "file_extension": ".py",
   "mimetype": "text/x-python",
   "name": "python",
   "nbconvert_exporter": "python",
   "pygments_lexer": "ipython3",
   "version": "3.4.1"
  }
 },
 "nbformat": 4,
 "nbformat_minor": 0
}
