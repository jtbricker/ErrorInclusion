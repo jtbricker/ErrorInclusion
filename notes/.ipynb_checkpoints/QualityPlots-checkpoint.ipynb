{
 "cells": [
  {
   "cell_type": "code",
   "execution_count": 57,
   "metadata": {
    "collapsed": false
   },
   "outputs": [
    {
     "data": {
      "text/plain": [
       "0"
      ]
     },
     "execution_count": 57,
     "metadata": {},
     "output_type": "execute_result"
    }
   ],
   "source": []
  },
  {
   "cell_type": "code",
   "execution_count": 54,
   "metadata": {
    "collapsed": false
   },
   "outputs": [],
   "source": [
    "import numpy as np\n",
    "import matplotlib.pyplot as pl"
   ]
  },
  {
   "cell_type": "code",
   "execution_count": 55,
   "metadata": {
    "collapsed": false
   },
   "outputs": [],
   "source": [
    "file = open('inseq.fastq','r')\n",
    "name = file.readline().strip()\n",
    "file.readline()\n",
    "file.readline()\n",
    "quality_string = file.readline().strip()\n",
    "#print(quality_string)\n",
    "\n",
    "quals = \"!\\\"#$%&'()*+,-./0123456789:;<=>?@ABCDEFGHI\"\n",
    "counts = {key:0 for key in list(quals)}\n",
    "for q in range(len(quality_string)):\n",
    "    #print(\"index: %s key: %s\"%(q,quality_string[q]))\n",
    "    #print(counts[quality_string[q]])\n",
    "    counts[quality_string[q]]+=1\n"
   ]
  },
  {
   "cell_type": "code",
   "execution_count": 51,
   "metadata": {
    "collapsed": false
   },
   "outputs": [],
   "source": [
    "X = np.arange(len(counts))\n",
    "pl.bar(X, counts.values(), align='center', width=0.5)\n",
    "pl.xticks(X, list(quals))\n",
    "ymax = max(counts.values()) + 1\n",
    "pl.ylim(0, ymax)\n",
    "pl.show()"
   ]
  },
  {
   "cell_type": "code",
   "execution_count": 56,
   "metadata": {
    "collapsed": false
   },
   "outputs": [
    {
     "data": {
      "text/plain": [
       "'3.;//04<.?3-,533304/9371060146/05:41671;/43+291690466-/13102-0.-<2:27>0/4-4;:74222404/.42317,575//2.5/>842502/-120.@0/2+41:.6336/B15-7,1-33.;.0154/91.;.1D1;730010:664;12/.5840+4/.34-3?749@3;7=24<18143:321>/47@48322755-51341482.41/603202190.204:0115,331-87345B24943965272.71;267-70246/53063/D:/2/:2.1.61/.5007-//0;.4138,)52-9010.>0+>-3/2-=6>74-0362-.74554233?200*/<./0,33975/3-9@22-/04.1=;.21611101:/3003813074<180,4?20141370-20235I,:5/<0;8/153B42-G-C62A4:4369/445.4010-:6,.129402:2/07/2,/8.067--63/0.871/>.<298.536074-94-/0..2364/624<3414404.C012408237151213.34756062211:6>-2/1/4/2.-9E26/44/.,.4133/.-5.36-:3.49/031?/35/;;4.<78/987;91632.435*B0/0;//4955-@1730214./377/603/36403;-1,/.130,34@113.2/4=15.+23/4012:530133:.410310/.-.2)90635/7-*/-62,60/7.--09/43..3/:708B@023268/.480+736)21.03/205/F8/-3:/41.8252.21C00081/22.53-7:/8;5023@=-7204/41).61930/3;254723/203252=56,183663/:4C.0354.2-,9.///012-25/-011.8/.,?5/8/7//2/..,-9192+31520>390511.+41.4227.:313064:25=13>4-202,.8.:/+9344955<5/+12131-5,6.3.5<'"
      ]
     },
     "execution_count": 56,
     "metadata": {},
     "output_type": "execute_result"
    }
   ],
   "source": [
    "quality_string"
   ]
  },
  {
   "cell_type": "code",
   "execution_count": null,
   "metadata": {
    "collapsed": true
   },
   "outputs": [],
   "source": []
  }
 ],
 "metadata": {
  "kernelspec": {
   "display_name": "Python 3",
   "language": "python",
   "name": "python3"
  },
  "language_info": {
   "codemirror_mode": {
    "name": "ipython",
    "version": 3
   },
   "file_extension": ".py",
   "mimetype": "text/x-python",
   "name": "python",
   "nbconvert_exporter": "python",
   "pygments_lexer": "ipython3",
   "version": "3.4.1"
  }
 },
 "nbformat": 4,
 "nbformat_minor": 0
}
