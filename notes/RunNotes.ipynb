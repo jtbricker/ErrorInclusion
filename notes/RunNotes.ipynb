{
 "cells": [
  {
   "cell_type": "markdown",
   "metadata": {},
   "source": [
    "#Experiment 1\n",
    "##Description\n",
    "Simple 4 tip tree. 100, 500, 1000 length sequences.  0.01, 0.05, 0.10 Error Rate, 100 Replicates.  Constant Filter Threshold of 15.\n",
    "##To Do\n",
    "\n",
    "* fastq_filter.py was removing reads that were better than the threshold\n",
    "* rerun fastq_filter and fast_to_beauti scripts on FASTQ_FILTERED data\n",
    "* redo beast runs for FASTQ_FILTERED data\n",
    "* redo tree annotations and combining consensus trees\n",
    "* redo graphs"
   ]
  },
  {
   "cell_type": "markdown",
   "metadata": {},
   "source": [
    "#Experiment 2\n",
    "##Description\n",
    "Using [Big Plants](http://nypg.bio.nyu.edu/bp/?q=node/7) tree from the New York Plant Genomics Consortium. 100, 500, 1000 length sequences. 0.01, 0.05, 0.10 Error Rate, 100 Replicates. Constant Filter Threshold of 15.\n",
    "\n",
    "<img src=\"http://nypg.bio.nyu.edu/bp/images/tree/genusMP.png\" width=\"400px\" style=\"float:left\"/>\n",
    "##To Do\n",
    "* changed fastq_filter.py to filter out bases in individual sequences that fall below filter, but need to filter out entire columns where at least one base fall below threshold so that sequences stay aligned.\n",
    "* Perhaps make additional filter that filters when average QUAL is below threshold?\n",
    "   "
   ]
  },
  {
   "cell_type": "code",
   "execution_count": null,
   "metadata": {
    "collapsed": true
   },
   "outputs": [],
   "source": []
  }
 ],
 "metadata": {
  "kernelspec": {
   "display_name": "Python 3",
   "language": "python",
   "name": "python3"
  },
  "language_info": {
   "codemirror_mode": {
    "name": "ipython",
    "version": 3
   },
   "file_extension": ".py",
   "mimetype": "text/x-python",
   "name": "python",
   "nbconvert_exporter": "python",
   "pygments_lexer": "ipython3",
   "version": "3.4.1"
  }
 },
 "nbformat": 4,
 "nbformat_minor": 0
}
